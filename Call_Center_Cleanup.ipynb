{
 "cells": [
  {
   "cell_type": "markdown",
   "id": "331a1c4f",
   "metadata": {},
   "source": [
    "# Call Center Cleanup\n",
    "\n",
    "For this assignment, we will be working with call center data. You can start working on the assignment after the first lesson on Exploratory Data Analysis with pandas. Make sure to read the whole assignment before starting anything! As you code along in the Jupyter notebook, you are asked to make note of the results of your analysis. Do so by clicking on the results box and adding your notes beside each question.\n",
    "\n",
    "## Business Issue and Understanding\n",
    "\n",
    "You are working for a company that has two call centers: the North Call Center and the South Call Center. The company is looking to possibly hire five additional reps to enhance customer experience. Your task is to explore how efficient the current reps are in each branch to determine which branch would benefit from additional assistance.\n",
    "\n",
    "### How the Call Center Works\n",
    "\n",
    "Call center representatives are assigned queues. When calls are assigned to a queue, the call is assigned to the next person in line in the queue. After a call is assigned to a representative, the amount of time between assignment and the call starting is divided into busy minutes and not ready minutes. If the call is incoming and a customer is waiting on the phone for a rep, the time is split into three categories: busy minutes, not ready minutes, and incoming call wait time. Once the rep has the customer on the phone, there might be during call wait time, where the call is put on hold while the rep gets an answer for the customer.\n",
    "\n",
    "### Notes about the Dataset\n",
    "\n",
    "If you haven't worked in a call center before, these notes might help you throughout your analysis.\n",
    "\n",
    "* The call purpose is tagged for each call.\n",
    "* The time of the call is tagged in 1 hour blocks starting at 9:00 AM and ending at 5:00 PM.\n",
    "* Calls are tagged as incoming or outgoing.\n",
    "* Reps are assigned to queues. When the reps are working, they take calls in the order of their queue.\n",
    "* A call that is dropped due to technical error or missed by the center because they have reached maximum capacity is a lost call.\n",
    "* An abandoned call is when the customer hangs up because they have been waiting for too long.\n",
    "* Busy Minutes: the amount of time after a call comes in or needs to go out where the assigned rep is not available because they are busy with other customers.\n",
    "* Not Ready Minutes: the amount of time after a call comes in or needs to go out where the assigned rep is not available because they are not ready (for example, getting water).\n",
    "* Incoming Wait Time - amount of time after assigned rep is available to take the call customer waits for representative to pick up a call. This is tracked in seconds.\n",
    "* During Call Wait Time - amount of time during call that customer has to wait for representative\n",
    "\n",
    "## Getting Started\n",
    "\n",
    "You have two CSVs at your disposal, `NorthCallCenter.csv` and `SouthCallCenter.csv`. Import the appropriate libraries and create two dataframes, one called `north_df` and one called `south_df`."
   ]
  },
  {
   "cell_type": "code",
   "execution_count": 48,
   "id": "f362436b",
   "metadata": {},
   "outputs": [],
   "source": [
    "# Import the appropriate libraries with aliases\n",
    "import pandas as pd\n",
    "import numpy as np\n",
    "# Create two new dataframes\n",
    "north_df = pd.read_csv(r\"C:\\Users\\holme\\OneDrive\\Desktop\\LaunchCode\\call-center-cleanup-assignment\\NorthCallCenter.csv\")\n",
    "south_df = pd.read_csv(r\"C:\\Users\\holme\\OneDrive\\Desktop\\LaunchCode\\call-center-cleanup-assignment\\SouthCallCenter.csv\")"
   ]
  },
  {
   "cell_type": "markdown",
   "id": "b4d3484b",
   "metadata": {},
   "source": [
    "## Task 1: Exploratory Data Analysis\n",
    "\n",
    "Time to do some EDA! In the process of learning more about the two datasets, answer the following questions. Use the code blocks below to begin cleaning your data. At the end of the section, record your answers."
   ]
  },
  {
   "cell_type": "markdown",
   "id": "76898991",
   "metadata": {},
   "source": [
    "#### EDA Question 1A:  How many reps are in the North branch?  "
   ]
  },
  {
   "cell_type": "code",
   "execution_count": 49,
   "id": "ce3eb5e4",
   "metadata": {},
   "outputs": [
    {
     "data": {
      "text/plain": [
       "9"
      ]
     },
     "execution_count": 49,
     "metadata": {},
     "output_type": "execute_result"
    }
   ],
   "source": [
    "# EDA Question 1A solution below:\n",
    "north_rep_count = north_df['Rep ID'].nunique()\n",
    "north_rep_count"
   ]
  },
  {
   "cell_type": "markdown",
   "id": "2a9b34d8",
   "metadata": {},
   "source": [
    "#### EDA Question 1B:  How many reps are in the South branch?  "
   ]
  },
  {
   "cell_type": "code",
   "execution_count": 50,
   "id": "3c715bbf",
   "metadata": {},
   "outputs": [
    {
     "data": {
      "text/plain": [
       "11"
      ]
     },
     "execution_count": 50,
     "metadata": {},
     "output_type": "execute_result"
    }
   ],
   "source": [
    "# EDA Question 1B solution Below:\n",
    "south_rep_count = south_df['Rep ID'].nunique()\n",
    "south_rep_count"
   ]
  },
  {
   "cell_type": "markdown",
   "id": "a872f045",
   "metadata": {},
   "source": [
    "#### EDA Question 2A:  What is the average busy minutes, not ready minutes, incoming wait time, and during call wait time for the North branch? "
   ]
  },
  {
   "cell_type": "code",
   "execution_count": 51,
   "id": "3759305f",
   "metadata": {},
   "outputs": [
    {
     "data": {
      "text/plain": [
       "Busy Minutes             9.99\n",
       "Not Ready Minutes        1.91\n",
       "Incoming Wait Time       3.05\n",
       "During Call Wait Time    2.97\n",
       "dtype: float64"
      ]
     },
     "execution_count": 51,
     "metadata": {},
     "output_type": "execute_result"
    }
   ],
   "source": [
    "# EDA Question 2A solution Below:\n",
    "# north_df.head()\n",
    "north_avg = north_df[[\"Busy Minutes\", \"Not Ready Minutes\", \"Incoming Wait Time\", \"During Call Wait Time\"]].agg('mean').round(2)\n",
    "north_avg"
   ]
  },
  {
   "cell_type": "markdown",
   "id": "3851cf3e",
   "metadata": {},
   "source": [
    "#### EDA Question 2B:  What is the average busy minutes, not ready minutes, incoming wait time, and during call wait time for the South branch? "
   ]
  },
  {
   "cell_type": "code",
   "execution_count": 52,
   "id": "a77ec152",
   "metadata": {},
   "outputs": [
    {
     "data": {
      "text/plain": [
       "Busy Minutes             10.05\n",
       "Not Ready Minutes         1.91\n",
       "Incoming Wait Time        3.00\n",
       "During Call Wait Time     3.08\n",
       "dtype: float64"
      ]
     },
     "execution_count": 52,
     "metadata": {},
     "output_type": "execute_result"
    }
   ],
   "source": [
    "# EDA Question 2B solution Below:\n",
    "south_avg = south_df[[\"Busy Minutes\", \"Not Ready Minutes\", \"Incoming Wait Time\", \"During Call Wait Time\"]].agg('mean').round(2)\n",
    "south_avg"
   ]
  },
  {
   "cell_type": "markdown",
   "id": "75915553",
   "metadata": {},
   "source": [
    "#### EDA Question 3:  What is the number of calls taken for each time block(Both North and South combined)?"
   ]
  },
  {
   "cell_type": "code",
   "execution_count": 53,
   "id": "49566936",
   "metadata": {},
   "outputs": [
    {
     "data": {
      "text/html": [
       "<div>\n",
       "<style scoped>\n",
       "    .dataframe tbody tr th:only-of-type {\n",
       "        vertical-align: middle;\n",
       "    }\n",
       "\n",
       "    .dataframe tbody tr th {\n",
       "        vertical-align: top;\n",
       "    }\n",
       "\n",
       "    .dataframe thead th {\n",
       "        text-align: right;\n",
       "    }\n",
       "</style>\n",
       "<table border=\"1\" class=\"dataframe\">\n",
       "  <thead>\n",
       "    <tr style=\"text-align: right;\">\n",
       "      <th></th>\n",
       "      <th>Time Block</th>\n",
       "      <th>Calls</th>\n",
       "    </tr>\n",
       "  </thead>\n",
       "  <tbody>\n",
       "    <tr>\n",
       "      <th>0</th>\n",
       "      <td>10:00 AM</td>\n",
       "      <td>99</td>\n",
       "    </tr>\n",
       "    <tr>\n",
       "      <th>1</th>\n",
       "      <td>11:00 AM</td>\n",
       "      <td>56</td>\n",
       "    </tr>\n",
       "    <tr>\n",
       "      <th>2</th>\n",
       "      <td>12:00 PM</td>\n",
       "      <td>120</td>\n",
       "    </tr>\n",
       "    <tr>\n",
       "      <th>3</th>\n",
       "      <td>1:00 PM</td>\n",
       "      <td>40</td>\n",
       "    </tr>\n",
       "    <tr>\n",
       "      <th>4</th>\n",
       "      <td>2:00 PM</td>\n",
       "      <td>65</td>\n",
       "    </tr>\n",
       "    <tr>\n",
       "      <th>5</th>\n",
       "      <td>3:00 PM</td>\n",
       "      <td>73</td>\n",
       "    </tr>\n",
       "    <tr>\n",
       "      <th>6</th>\n",
       "      <td>4:00 PM</td>\n",
       "      <td>53</td>\n",
       "    </tr>\n",
       "    <tr>\n",
       "      <th>7</th>\n",
       "      <td>5:00 PM</td>\n",
       "      <td>43</td>\n",
       "    </tr>\n",
       "    <tr>\n",
       "      <th>8</th>\n",
       "      <td>9:00 AM</td>\n",
       "      <td>10</td>\n",
       "    </tr>\n",
       "  </tbody>\n",
       "</table>\n",
       "</div>"
      ],
      "text/plain": [
       "  Time Block  Calls\n",
       "0   10:00 AM     99\n",
       "1   11:00 AM     56\n",
       "2   12:00 PM    120\n",
       "3    1:00 PM     40\n",
       "4    2:00 PM     65\n",
       "5    3:00 PM     73\n",
       "6    4:00 PM     53\n",
       "7    5:00 PM     43\n",
       "8    9:00 AM     10"
      ]
     },
     "execution_count": 53,
     "metadata": {},
     "output_type": "execute_result"
    }
   ],
   "source": [
    "# EDA Question 3 solution Below:\n",
    "combined_df = pd.concat([north_df, south_df])\n",
    "call_block = combined_df.groupby(\"Time Block\")[\"Calls\"].sum().reset_index()\n",
    "call_block"
   ]
  },
  {
   "cell_type": "markdown",
   "id": "40b1fd3f",
   "metadata": {},
   "source": [
    "##### Record your answers for the EDA section below:\n",
    "- 1a) Reps in the North Branch = 9\n",
    "- 1b) Reps in the South Branch = 11\n",
    "\n",
    "\n",
    "- 2a) North Branch, (round to the nearest hundredth):\n",
    "> - Busy Minutes = 9.99\n",
    "> - Not Ready Minutes = 1.91\n",
    "> - Incoming Wait Time = 3.05\n",
    "> - During Call Wait Time = 2.97\n",
    "- 2b) South Branch, (round to the nearest hundredth):\n",
    "> - Busy Minutes = 10.05\n",
    "> - Not Ready Minutes = 1.91\n",
    "> - Incoming Wait Time = 3.00\n",
    "> - During Call Wait Time = 3.08\n",
    "- 3) Total Calls taken for all branches per time block:\n",
    "> - 9:00AM   = 10\n",
    "> - 10:00AM  = 99\n",
    "> - 11:00AM  = 56\n",
    "> - 12:00PM  = 120\n",
    "> - 1:00PM   = 40\n",
    "> - 2:00PM   = 65\n",
    "> - 3:00PM   = 73\n",
    "> - 4:00PM   = 53\n",
    "> - 5:00PM   = 43\n",
    "\n"
   ]
  },
  {
   "cell_type": "markdown",
   "id": "366bfb19",
   "metadata": {},
   "source": [
    "## Task 2: Cleaning Your Data \n",
    "Now you need to clean up the datasets. When cleaning the datasets, you may find that there isn't dirty data to clean. That is okay! Some questions you need to answer about the data sets.\n",
    "* Add additional code blocks as needed to show how you came to your conclusions. Add comments in your code blocks to help others understand your thinking. "
   ]
  },
  {
   "cell_type": "markdown",
   "id": "c3564d69",
   "metadata": {},
   "source": [
    "#### Cleaning Question 1:  Is there any missing data and if yes explain what you would do with the missing data and why?"
   ]
  },
  {
   "cell_type": "code",
   "execution_count": 54,
   "id": "b77fb574",
   "metadata": {},
   "outputs": [
    {
     "data": {
      "text/plain": [
       "Unnamed: 0                 0\n",
       "Branch                     0\n",
       "Call Purpose               0\n",
       "Time Block                 0\n",
       "Incoming or Outgoing       0\n",
       "Queue                      0\n",
       "Rep ID                     0\n",
       "Sale                       0\n",
       "Lost Call                  0\n",
       "Abandoned                  0\n",
       "Busy Minutes               0\n",
       "Not Ready Minutes          0\n",
       "Incoming Wait Time       351\n",
       "During Call Wait Time      0\n",
       "Calls                      0\n",
       "dtype: int64"
      ]
     },
     "execution_count": 54,
     "metadata": {},
     "output_type": "execute_result"
    }
   ],
   "source": [
    "# Question 1 solution below\n",
    "# Checks the combined data frame or nulls and adds them up.\n",
    "combined_df.isnull().sum()"
   ]
  },
  {
   "cell_type": "markdown",
   "id": "0dc5c568-40db-4889-b82b-64610d8058d2",
   "metadata": {},
   "source": [
    "#### Record your answer below:\n",
    "\n",
    "> Your Answer: Yes, there is missing data in the \"Incoming Wait Time\" column. To handle this I would fill in all the blanks with 0."
   ]
  },
  {
   "cell_type": "markdown",
   "id": "dc47f020",
   "metadata": {},
   "source": [
    "#### Cleaning Question 2:  In the North data set, there are two separate \"YES\" values for a sale. Why and how did you rectify the issue?"
   ]
  },
  {
   "cell_type": "code",
   "execution_count": 55,
   "id": "4e0fbad6",
   "metadata": {},
   "outputs": [],
   "source": [
    "# Cleaning Question 2 solution below\n",
    "north_df['Sale'] = north_df['Sale'].str.strip()"
   ]
  },
  {
   "cell_type": "markdown",
   "id": "cf81b612-eb6b-45a6-ac8e-d6f4e08131a8",
   "metadata": {},
   "source": [
    "##### Record your answer by below:\n",
    "> Your Answer: There are two separate \"YES\" values because there is one with white space. To fix this I need to strip the white space."
   ]
  },
  {
   "cell_type": "markdown",
   "id": "715f375a",
   "metadata": {},
   "source": [
    "#### Cleaning Question 3:  Are there duplicates in the two data sets? If there are, how did you handle them?"
   ]
  },
  {
   "cell_type": "code",
   "execution_count": 56,
   "id": "2323673a",
   "metadata": {},
   "outputs": [
    {
     "data": {
      "text/plain": [
       "np.int64(0)"
      ]
     },
     "metadata": {},
     "output_type": "display_data"
    },
    {
     "data": {
      "text/plain": [
       "np.int64(0)"
      ]
     },
     "metadata": {},
     "output_type": "display_data"
    }
   ],
   "source": [
    "# Cleaning Question 3 solution below:\n",
    "north_dup = north_df.duplicated().sum()\n",
    "display(north_dup)\n",
    "\n",
    "south_dup = south_df.duplicated().sum()\n",
    "display(south_dup)"
   ]
  },
  {
   "cell_type": "markdown",
   "id": "4fbfe2e8-490a-48dc-b0ca-599879076c62",
   "metadata": {},
   "source": [
    "##### Record your answer below:\n",
    "> Your Answer: There are no duplicates in the dataset but, If there were I would handle this be using the drop_duplicates() function."
   ]
  },
  {
   "cell_type": "markdown",
   "id": "8ffaa865",
   "metadata": {},
   "source": [
    "#### Cleaning Question 4:  Is any of the data in the two data sets unnecessary? If yes, how did you handle it?"
   ]
  },
  {
   "cell_type": "code",
   "execution_count": 57,
   "id": "78b45e70",
   "metadata": {},
   "outputs": [
    {
     "data": {
      "text/html": [
       "<div>\n",
       "<style scoped>\n",
       "    .dataframe tbody tr th:only-of-type {\n",
       "        vertical-align: middle;\n",
       "    }\n",
       "\n",
       "    .dataframe tbody tr th {\n",
       "        vertical-align: top;\n",
       "    }\n",
       "\n",
       "    .dataframe thead th {\n",
       "        text-align: right;\n",
       "    }\n",
       "</style>\n",
       "<table border=\"1\" class=\"dataframe\">\n",
       "  <thead>\n",
       "    <tr style=\"text-align: right;\">\n",
       "      <th></th>\n",
       "      <th>Branch</th>\n",
       "      <th>Call Purpose</th>\n",
       "      <th>Time Block</th>\n",
       "      <th>Incoming or Outgoing</th>\n",
       "      <th>Queue</th>\n",
       "      <th>Rep ID</th>\n",
       "      <th>Sale</th>\n",
       "      <th>Lost Call</th>\n",
       "      <th>Abandoned</th>\n",
       "      <th>Busy Minutes</th>\n",
       "      <th>Not Ready Minutes</th>\n",
       "      <th>Incoming Wait Time</th>\n",
       "      <th>During Call Wait Time</th>\n",
       "      <th>Calls</th>\n",
       "    </tr>\n",
       "  </thead>\n",
       "  <tbody>\n",
       "    <tr>\n",
       "      <th>0</th>\n",
       "      <td>North</td>\n",
       "      <td>Complaint</td>\n",
       "      <td>9:00 AM</td>\n",
       "      <td>Incoming</td>\n",
       "      <td>B</td>\n",
       "      <td>Brent</td>\n",
       "      <td>NO</td>\n",
       "      <td>0</td>\n",
       "      <td>1</td>\n",
       "      <td>9</td>\n",
       "      <td>2</td>\n",
       "      <td>1.0</td>\n",
       "      <td>4</td>\n",
       "      <td>1</td>\n",
       "    </tr>\n",
       "    <tr>\n",
       "      <th>1</th>\n",
       "      <td>North</td>\n",
       "      <td>Sales Support</td>\n",
       "      <td>11:00 AM</td>\n",
       "      <td>Incoming</td>\n",
       "      <td>A</td>\n",
       "      <td>Cam</td>\n",
       "      <td>NO</td>\n",
       "      <td>0</td>\n",
       "      <td>0</td>\n",
       "      <td>11</td>\n",
       "      <td>1</td>\n",
       "      <td>1.0</td>\n",
       "      <td>3</td>\n",
       "      <td>1</td>\n",
       "    </tr>\n",
       "    <tr>\n",
       "      <th>2</th>\n",
       "      <td>North</td>\n",
       "      <td>Sales Support</td>\n",
       "      <td>11:00 AM</td>\n",
       "      <td>Incoming</td>\n",
       "      <td>B</td>\n",
       "      <td>Todd</td>\n",
       "      <td>NO</td>\n",
       "      <td>0</td>\n",
       "      <td>0</td>\n",
       "      <td>9</td>\n",
       "      <td>3</td>\n",
       "      <td>1.0</td>\n",
       "      <td>3</td>\n",
       "      <td>1</td>\n",
       "    </tr>\n",
       "    <tr>\n",
       "      <th>3</th>\n",
       "      <td>North</td>\n",
       "      <td>Sales Support</td>\n",
       "      <td>4:00 PM</td>\n",
       "      <td>Incoming</td>\n",
       "      <td>B</td>\n",
       "      <td>Brent</td>\n",
       "      <td>NO</td>\n",
       "      <td>0</td>\n",
       "      <td>0</td>\n",
       "      <td>11</td>\n",
       "      <td>2</td>\n",
       "      <td>1.0</td>\n",
       "      <td>4</td>\n",
       "      <td>1</td>\n",
       "    </tr>\n",
       "    <tr>\n",
       "      <th>4</th>\n",
       "      <td>North</td>\n",
       "      <td>Product Support</td>\n",
       "      <td>12:00 PM</td>\n",
       "      <td>Incoming</td>\n",
       "      <td>B</td>\n",
       "      <td>Brent</td>\n",
       "      <td>NO</td>\n",
       "      <td>0</td>\n",
       "      <td>0</td>\n",
       "      <td>8</td>\n",
       "      <td>2</td>\n",
       "      <td>1.0</td>\n",
       "      <td>4</td>\n",
       "      <td>1</td>\n",
       "    </tr>\n",
       "    <tr>\n",
       "      <th>...</th>\n",
       "      <td>...</td>\n",
       "      <td>...</td>\n",
       "      <td>...</td>\n",
       "      <td>...</td>\n",
       "      <td>...</td>\n",
       "      <td>...</td>\n",
       "      <td>...</td>\n",
       "      <td>...</td>\n",
       "      <td>...</td>\n",
       "      <td>...</td>\n",
       "      <td>...</td>\n",
       "      <td>...</td>\n",
       "      <td>...</td>\n",
       "      <td>...</td>\n",
       "    </tr>\n",
       "    <tr>\n",
       "      <th>240</th>\n",
       "      <td>North</td>\n",
       "      <td>Product Support</td>\n",
       "      <td>5:00 PM</td>\n",
       "      <td>Outgoing</td>\n",
       "      <td>B</td>\n",
       "      <td>Brent</td>\n",
       "      <td>NO</td>\n",
       "      <td>0</td>\n",
       "      <td>0</td>\n",
       "      <td>10</td>\n",
       "      <td>2</td>\n",
       "      <td>NaN</td>\n",
       "      <td>3</td>\n",
       "      <td>1</td>\n",
       "    </tr>\n",
       "    <tr>\n",
       "      <th>241</th>\n",
       "      <td>North</td>\n",
       "      <td>Product Support</td>\n",
       "      <td>5:00 PM</td>\n",
       "      <td>Outgoing</td>\n",
       "      <td>A</td>\n",
       "      <td>Joe</td>\n",
       "      <td>NO</td>\n",
       "      <td>0</td>\n",
       "      <td>0</td>\n",
       "      <td>8</td>\n",
       "      <td>3</td>\n",
       "      <td>NaN</td>\n",
       "      <td>2</td>\n",
       "      <td>1</td>\n",
       "    </tr>\n",
       "    <tr>\n",
       "      <th>242</th>\n",
       "      <td>North</td>\n",
       "      <td>Product Support</td>\n",
       "      <td>5:00 PM</td>\n",
       "      <td>Outgoing</td>\n",
       "      <td>A</td>\n",
       "      <td>Amanda</td>\n",
       "      <td>NO</td>\n",
       "      <td>0</td>\n",
       "      <td>0</td>\n",
       "      <td>12</td>\n",
       "      <td>1</td>\n",
       "      <td>NaN</td>\n",
       "      <td>2</td>\n",
       "      <td>1</td>\n",
       "    </tr>\n",
       "    <tr>\n",
       "      <th>243</th>\n",
       "      <td>North</td>\n",
       "      <td>Product Support</td>\n",
       "      <td>5:00 PM</td>\n",
       "      <td>Outgoing</td>\n",
       "      <td>A</td>\n",
       "      <td>Cam</td>\n",
       "      <td>NO</td>\n",
       "      <td>0</td>\n",
       "      <td>0</td>\n",
       "      <td>11</td>\n",
       "      <td>2</td>\n",
       "      <td>NaN</td>\n",
       "      <td>2</td>\n",
       "      <td>1</td>\n",
       "    </tr>\n",
       "    <tr>\n",
       "      <th>244</th>\n",
       "      <td>North</td>\n",
       "      <td>Product Support</td>\n",
       "      <td>5:00 PM</td>\n",
       "      <td>Outgoing</td>\n",
       "      <td>B</td>\n",
       "      <td>Xander</td>\n",
       "      <td>NO</td>\n",
       "      <td>0</td>\n",
       "      <td>0</td>\n",
       "      <td>8</td>\n",
       "      <td>1</td>\n",
       "      <td>NaN</td>\n",
       "      <td>4</td>\n",
       "      <td>1</td>\n",
       "    </tr>\n",
       "  </tbody>\n",
       "</table>\n",
       "<p>245 rows × 14 columns</p>\n",
       "</div>"
      ],
      "text/plain": [
       "    Branch     Call Purpose Time Block Incoming or Outgoing Queue  Rep ID  \\\n",
       "0    North        Complaint    9:00 AM             Incoming     B   Brent   \n",
       "1    North    Sales Support   11:00 AM             Incoming     A     Cam   \n",
       "2    North    Sales Support   11:00 AM             Incoming     B    Todd   \n",
       "3    North    Sales Support    4:00 PM             Incoming     B   Brent   \n",
       "4    North  Product Support   12:00 PM             Incoming     B   Brent   \n",
       "..     ...              ...        ...                  ...   ...     ...   \n",
       "240  North  Product Support    5:00 PM             Outgoing     B   Brent   \n",
       "241  North  Product Support    5:00 PM             Outgoing     A     Joe   \n",
       "242  North  Product Support    5:00 PM             Outgoing     A  Amanda   \n",
       "243  North  Product Support    5:00 PM             Outgoing     A     Cam   \n",
       "244  North  Product Support    5:00 PM             Outgoing     B  Xander   \n",
       "\n",
       "    Sale  Lost Call  Abandoned  Busy Minutes  Not Ready Minutes  \\\n",
       "0     NO          0          1             9                  2   \n",
       "1     NO          0          0            11                  1   \n",
       "2     NO          0          0             9                  3   \n",
       "3     NO          0          0            11                  2   \n",
       "4     NO          0          0             8                  2   \n",
       "..   ...        ...        ...           ...                ...   \n",
       "240   NO          0          0            10                  2   \n",
       "241   NO          0          0             8                  3   \n",
       "242   NO          0          0            12                  1   \n",
       "243   NO          0          0            11                  2   \n",
       "244   NO          0          0             8                  1   \n",
       "\n",
       "     Incoming Wait Time  During Call Wait Time  Calls  \n",
       "0                   1.0                      4      1  \n",
       "1                   1.0                      3      1  \n",
       "2                   1.0                      3      1  \n",
       "3                   1.0                      4      1  \n",
       "4                   1.0                      4      1  \n",
       "..                  ...                    ...    ...  \n",
       "240                 NaN                      3      1  \n",
       "241                 NaN                      2      1  \n",
       "242                 NaN                      2      1  \n",
       "243                 NaN                      2      1  \n",
       "244                 NaN                      4      1  \n",
       "\n",
       "[245 rows x 14 columns]"
      ]
     },
     "metadata": {},
     "output_type": "display_data"
    },
    {
     "data": {
      "text/html": [
       "<div>\n",
       "<style scoped>\n",
       "    .dataframe tbody tr th:only-of-type {\n",
       "        vertical-align: middle;\n",
       "    }\n",
       "\n",
       "    .dataframe tbody tr th {\n",
       "        vertical-align: top;\n",
       "    }\n",
       "\n",
       "    .dataframe thead th {\n",
       "        text-align: right;\n",
       "    }\n",
       "</style>\n",
       "<table border=\"1\" class=\"dataframe\">\n",
       "  <thead>\n",
       "    <tr style=\"text-align: right;\">\n",
       "      <th></th>\n",
       "      <th>Branch</th>\n",
       "      <th>Call Purpose</th>\n",
       "      <th>Time Block</th>\n",
       "      <th>Incoming or Outgoing</th>\n",
       "      <th>Queue</th>\n",
       "      <th>Rep ID</th>\n",
       "      <th>Sale</th>\n",
       "      <th>Lost Call</th>\n",
       "      <th>Abandoned</th>\n",
       "      <th>Busy Minutes</th>\n",
       "      <th>Not Ready Minutes</th>\n",
       "      <th>Incoming Wait Time</th>\n",
       "      <th>During Call Wait Time</th>\n",
       "      <th>Calls</th>\n",
       "    </tr>\n",
       "  </thead>\n",
       "  <tbody>\n",
       "    <tr>\n",
       "      <th>0</th>\n",
       "      <td>South</td>\n",
       "      <td>Sales Support</td>\n",
       "      <td>10:00 AM</td>\n",
       "      <td>Incoming</td>\n",
       "      <td>D</td>\n",
       "      <td>Kate</td>\n",
       "      <td>NO</td>\n",
       "      <td>0</td>\n",
       "      <td>0</td>\n",
       "      <td>9</td>\n",
       "      <td>1</td>\n",
       "      <td>1.0</td>\n",
       "      <td>2</td>\n",
       "      <td>1</td>\n",
       "    </tr>\n",
       "    <tr>\n",
       "      <th>1</th>\n",
       "      <td>South</td>\n",
       "      <td>Sales Support</td>\n",
       "      <td>10:00 AM</td>\n",
       "      <td>Incoming</td>\n",
       "      <td>C</td>\n",
       "      <td>Eric</td>\n",
       "      <td>NO</td>\n",
       "      <td>0</td>\n",
       "      <td>0</td>\n",
       "      <td>8</td>\n",
       "      <td>2</td>\n",
       "      <td>1.0</td>\n",
       "      <td>4</td>\n",
       "      <td>1</td>\n",
       "    </tr>\n",
       "    <tr>\n",
       "      <th>2</th>\n",
       "      <td>South</td>\n",
       "      <td>Sales Support</td>\n",
       "      <td>10:00 AM</td>\n",
       "      <td>Incoming</td>\n",
       "      <td>C</td>\n",
       "      <td>Susan</td>\n",
       "      <td>NO</td>\n",
       "      <td>0</td>\n",
       "      <td>0</td>\n",
       "      <td>10</td>\n",
       "      <td>2</td>\n",
       "      <td>1.0</td>\n",
       "      <td>4</td>\n",
       "      <td>1</td>\n",
       "    </tr>\n",
       "    <tr>\n",
       "      <th>3</th>\n",
       "      <td>South</td>\n",
       "      <td>Sales Support</td>\n",
       "      <td>10:00 AM</td>\n",
       "      <td>Incoming</td>\n",
       "      <td>C</td>\n",
       "      <td>Alice</td>\n",
       "      <td>NO</td>\n",
       "      <td>0</td>\n",
       "      <td>0</td>\n",
       "      <td>12</td>\n",
       "      <td>1</td>\n",
       "      <td>1.0</td>\n",
       "      <td>3</td>\n",
       "      <td>1</td>\n",
       "    </tr>\n",
       "    <tr>\n",
       "      <th>4</th>\n",
       "      <td>South</td>\n",
       "      <td>Sales Support</td>\n",
       "      <td>12:00 PM</td>\n",
       "      <td>Incoming</td>\n",
       "      <td>C</td>\n",
       "      <td>Sandy</td>\n",
       "      <td>NO</td>\n",
       "      <td>0</td>\n",
       "      <td>0</td>\n",
       "      <td>8</td>\n",
       "      <td>3</td>\n",
       "      <td>1.0</td>\n",
       "      <td>3</td>\n",
       "      <td>1</td>\n",
       "    </tr>\n",
       "    <tr>\n",
       "      <th>...</th>\n",
       "      <td>...</td>\n",
       "      <td>...</td>\n",
       "      <td>...</td>\n",
       "      <td>...</td>\n",
       "      <td>...</td>\n",
       "      <td>...</td>\n",
       "      <td>...</td>\n",
       "      <td>...</td>\n",
       "      <td>...</td>\n",
       "      <td>...</td>\n",
       "      <td>...</td>\n",
       "      <td>...</td>\n",
       "      <td>...</td>\n",
       "      <td>...</td>\n",
       "    </tr>\n",
       "    <tr>\n",
       "      <th>309</th>\n",
       "      <td>South</td>\n",
       "      <td>Product Support</td>\n",
       "      <td>5:00 PM</td>\n",
       "      <td>Outgoing</td>\n",
       "      <td>D</td>\n",
       "      <td>Helga</td>\n",
       "      <td>NO</td>\n",
       "      <td>0</td>\n",
       "      <td>0</td>\n",
       "      <td>10</td>\n",
       "      <td>3</td>\n",
       "      <td>NaN</td>\n",
       "      <td>4</td>\n",
       "      <td>1</td>\n",
       "    </tr>\n",
       "    <tr>\n",
       "      <th>310</th>\n",
       "      <td>South</td>\n",
       "      <td>Product Support</td>\n",
       "      <td>5:00 PM</td>\n",
       "      <td>Outgoing</td>\n",
       "      <td>C</td>\n",
       "      <td>Susan</td>\n",
       "      <td>NO</td>\n",
       "      <td>0</td>\n",
       "      <td>0</td>\n",
       "      <td>12</td>\n",
       "      <td>3</td>\n",
       "      <td>NaN</td>\n",
       "      <td>4</td>\n",
       "      <td>1</td>\n",
       "    </tr>\n",
       "    <tr>\n",
       "      <th>311</th>\n",
       "      <td>South</td>\n",
       "      <td>Product Support</td>\n",
       "      <td>5:00 PM</td>\n",
       "      <td>Outgoing</td>\n",
       "      <td>C</td>\n",
       "      <td>Sandy</td>\n",
       "      <td>NO</td>\n",
       "      <td>0</td>\n",
       "      <td>0</td>\n",
       "      <td>9</td>\n",
       "      <td>3</td>\n",
       "      <td>NaN</td>\n",
       "      <td>4</td>\n",
       "      <td>1</td>\n",
       "    </tr>\n",
       "    <tr>\n",
       "      <th>312</th>\n",
       "      <td>South</td>\n",
       "      <td>Product Support</td>\n",
       "      <td>5:00 PM</td>\n",
       "      <td>Outgoing</td>\n",
       "      <td>C</td>\n",
       "      <td>Eric</td>\n",
       "      <td>NO</td>\n",
       "      <td>0</td>\n",
       "      <td>0</td>\n",
       "      <td>10</td>\n",
       "      <td>1</td>\n",
       "      <td>NaN</td>\n",
       "      <td>2</td>\n",
       "      <td>1</td>\n",
       "    </tr>\n",
       "    <tr>\n",
       "      <th>313</th>\n",
       "      <td>South</td>\n",
       "      <td>Product Support</td>\n",
       "      <td>5:00 PM</td>\n",
       "      <td>Outgoing</td>\n",
       "      <td>D</td>\n",
       "      <td>George</td>\n",
       "      <td>NO</td>\n",
       "      <td>0</td>\n",
       "      <td>0</td>\n",
       "      <td>10</td>\n",
       "      <td>2</td>\n",
       "      <td>NaN</td>\n",
       "      <td>3</td>\n",
       "      <td>1</td>\n",
       "    </tr>\n",
       "  </tbody>\n",
       "</table>\n",
       "<p>314 rows × 14 columns</p>\n",
       "</div>"
      ],
      "text/plain": [
       "    Branch     Call Purpose Time Block Incoming or Outgoing Queue  Rep ID  \\\n",
       "0    South    Sales Support   10:00 AM             Incoming     D    Kate   \n",
       "1    South    Sales Support   10:00 AM             Incoming     C    Eric   \n",
       "2    South    Sales Support   10:00 AM             Incoming     C   Susan   \n",
       "3    South    Sales Support   10:00 AM             Incoming     C   Alice   \n",
       "4    South    Sales Support   12:00 PM             Incoming     C   Sandy   \n",
       "..     ...              ...        ...                  ...   ...     ...   \n",
       "309  South  Product Support    5:00 PM             Outgoing     D   Helga   \n",
       "310  South  Product Support    5:00 PM             Outgoing     C   Susan   \n",
       "311  South  Product Support    5:00 PM             Outgoing     C   Sandy   \n",
       "312  South  Product Support    5:00 PM             Outgoing     C    Eric   \n",
       "313  South  Product Support    5:00 PM             Outgoing     D  George   \n",
       "\n",
       "    Sale  Lost Call  Abandoned  Busy Minutes  Not Ready Minutes  \\\n",
       "0     NO          0          0             9                  1   \n",
       "1     NO          0          0             8                  2   \n",
       "2     NO          0          0            10                  2   \n",
       "3     NO          0          0            12                  1   \n",
       "4     NO          0          0             8                  3   \n",
       "..   ...        ...        ...           ...                ...   \n",
       "309   NO          0          0            10                  3   \n",
       "310   NO          0          0            12                  3   \n",
       "311   NO          0          0             9                  3   \n",
       "312   NO          0          0            10                  1   \n",
       "313   NO          0          0            10                  2   \n",
       "\n",
       "     Incoming Wait Time  During Call Wait Time  Calls  \n",
       "0                   1.0                      2      1  \n",
       "1                   1.0                      4      1  \n",
       "2                   1.0                      4      1  \n",
       "3                   1.0                      3      1  \n",
       "4                   1.0                      3      1  \n",
       "..                  ...                    ...    ...  \n",
       "309                 NaN                      4      1  \n",
       "310                 NaN                      4      1  \n",
       "311                 NaN                      4      1  \n",
       "312                 NaN                      2      1  \n",
       "313                 NaN                      3      1  \n",
       "\n",
       "[314 rows x 14 columns]"
      ]
     },
     "metadata": {},
     "output_type": "display_data"
    }
   ],
   "source": [
    "# Cleaning Question 4 solution below:\n",
    "north_df =  north_df.drop(columns=[\"Unnamed: 0\"])\n",
    "display(north_df)\n",
    "south_df =  south_df.drop(columns=[\"Unnamed: 0\"])\n",
    "display(south_df)  "
   ]
  },
  {
   "cell_type": "markdown",
   "id": "689e76b9-64d2-45d7-883a-b8c4d822e0c8",
   "metadata": {},
   "source": [
    "##### Record your answer below:\n",
    "> Your Answer: The \"Unnamed: 0\" column was unnecessary so I dropped it by using the .drop() function."
   ]
  },
  {
   "cell_type": "markdown",
   "id": "73342a9a",
   "metadata": {},
   "source": [
    "## Task 3: Data Manipulation\n",
    "Before you begin answering any questions, combine the two datasets together to create a third dataframe called df. You can use this third dataframe to compare the two call centers to company-wide trends.\n",
    "* Add additional code blocks as needed to show how you came to your conclusions. Add comments in your code blocks to help others understand your thinking. Record your answer below."
   ]
  },
  {
   "cell_type": "code",
   "execution_count": 58,
   "id": "e9705c34",
   "metadata": {},
   "outputs": [
    {
     "data": {
      "text/html": [
       "<div>\n",
       "<style scoped>\n",
       "    .dataframe tbody tr th:only-of-type {\n",
       "        vertical-align: middle;\n",
       "    }\n",
       "\n",
       "    .dataframe tbody tr th {\n",
       "        vertical-align: top;\n",
       "    }\n",
       "\n",
       "    .dataframe thead th {\n",
       "        text-align: right;\n",
       "    }\n",
       "</style>\n",
       "<table border=\"1\" class=\"dataframe\">\n",
       "  <thead>\n",
       "    <tr style=\"text-align: right;\">\n",
       "      <th></th>\n",
       "      <th>Branch</th>\n",
       "      <th>Call Purpose</th>\n",
       "      <th>Time Block</th>\n",
       "      <th>Incoming or Outgoing</th>\n",
       "      <th>Queue</th>\n",
       "      <th>Rep ID</th>\n",
       "      <th>Sale</th>\n",
       "      <th>Lost Call</th>\n",
       "      <th>Abandoned</th>\n",
       "      <th>Busy Minutes</th>\n",
       "      <th>Not Ready Minutes</th>\n",
       "      <th>Incoming Wait Time</th>\n",
       "      <th>During Call Wait Time</th>\n",
       "      <th>Calls</th>\n",
       "    </tr>\n",
       "  </thead>\n",
       "  <tbody>\n",
       "    <tr>\n",
       "      <th>0</th>\n",
       "      <td>North</td>\n",
       "      <td>Complaint</td>\n",
       "      <td>9:00 AM</td>\n",
       "      <td>Incoming</td>\n",
       "      <td>B</td>\n",
       "      <td>Brent</td>\n",
       "      <td>NO</td>\n",
       "      <td>0</td>\n",
       "      <td>1</td>\n",
       "      <td>9</td>\n",
       "      <td>2</td>\n",
       "      <td>1.0</td>\n",
       "      <td>4</td>\n",
       "      <td>1</td>\n",
       "    </tr>\n",
       "    <tr>\n",
       "      <th>1</th>\n",
       "      <td>North</td>\n",
       "      <td>Sales Support</td>\n",
       "      <td>11:00 AM</td>\n",
       "      <td>Incoming</td>\n",
       "      <td>A</td>\n",
       "      <td>Cam</td>\n",
       "      <td>NO</td>\n",
       "      <td>0</td>\n",
       "      <td>0</td>\n",
       "      <td>11</td>\n",
       "      <td>1</td>\n",
       "      <td>1.0</td>\n",
       "      <td>3</td>\n",
       "      <td>1</td>\n",
       "    </tr>\n",
       "    <tr>\n",
       "      <th>2</th>\n",
       "      <td>North</td>\n",
       "      <td>Sales Support</td>\n",
       "      <td>11:00 AM</td>\n",
       "      <td>Incoming</td>\n",
       "      <td>B</td>\n",
       "      <td>Todd</td>\n",
       "      <td>NO</td>\n",
       "      <td>0</td>\n",
       "      <td>0</td>\n",
       "      <td>9</td>\n",
       "      <td>3</td>\n",
       "      <td>1.0</td>\n",
       "      <td>3</td>\n",
       "      <td>1</td>\n",
       "    </tr>\n",
       "    <tr>\n",
       "      <th>3</th>\n",
       "      <td>North</td>\n",
       "      <td>Sales Support</td>\n",
       "      <td>4:00 PM</td>\n",
       "      <td>Incoming</td>\n",
       "      <td>B</td>\n",
       "      <td>Brent</td>\n",
       "      <td>NO</td>\n",
       "      <td>0</td>\n",
       "      <td>0</td>\n",
       "      <td>11</td>\n",
       "      <td>2</td>\n",
       "      <td>1.0</td>\n",
       "      <td>4</td>\n",
       "      <td>1</td>\n",
       "    </tr>\n",
       "    <tr>\n",
       "      <th>4</th>\n",
       "      <td>North</td>\n",
       "      <td>Product Support</td>\n",
       "      <td>12:00 PM</td>\n",
       "      <td>Incoming</td>\n",
       "      <td>B</td>\n",
       "      <td>Brent</td>\n",
       "      <td>NO</td>\n",
       "      <td>0</td>\n",
       "      <td>0</td>\n",
       "      <td>8</td>\n",
       "      <td>2</td>\n",
       "      <td>1.0</td>\n",
       "      <td>4</td>\n",
       "      <td>1</td>\n",
       "    </tr>\n",
       "    <tr>\n",
       "      <th>...</th>\n",
       "      <td>...</td>\n",
       "      <td>...</td>\n",
       "      <td>...</td>\n",
       "      <td>...</td>\n",
       "      <td>...</td>\n",
       "      <td>...</td>\n",
       "      <td>...</td>\n",
       "      <td>...</td>\n",
       "      <td>...</td>\n",
       "      <td>...</td>\n",
       "      <td>...</td>\n",
       "      <td>...</td>\n",
       "      <td>...</td>\n",
       "      <td>...</td>\n",
       "    </tr>\n",
       "    <tr>\n",
       "      <th>309</th>\n",
       "      <td>South</td>\n",
       "      <td>Product Support</td>\n",
       "      <td>5:00 PM</td>\n",
       "      <td>Outgoing</td>\n",
       "      <td>D</td>\n",
       "      <td>Helga</td>\n",
       "      <td>NO</td>\n",
       "      <td>0</td>\n",
       "      <td>0</td>\n",
       "      <td>10</td>\n",
       "      <td>3</td>\n",
       "      <td>NaN</td>\n",
       "      <td>4</td>\n",
       "      <td>1</td>\n",
       "    </tr>\n",
       "    <tr>\n",
       "      <th>310</th>\n",
       "      <td>South</td>\n",
       "      <td>Product Support</td>\n",
       "      <td>5:00 PM</td>\n",
       "      <td>Outgoing</td>\n",
       "      <td>C</td>\n",
       "      <td>Susan</td>\n",
       "      <td>NO</td>\n",
       "      <td>0</td>\n",
       "      <td>0</td>\n",
       "      <td>12</td>\n",
       "      <td>3</td>\n",
       "      <td>NaN</td>\n",
       "      <td>4</td>\n",
       "      <td>1</td>\n",
       "    </tr>\n",
       "    <tr>\n",
       "      <th>311</th>\n",
       "      <td>South</td>\n",
       "      <td>Product Support</td>\n",
       "      <td>5:00 PM</td>\n",
       "      <td>Outgoing</td>\n",
       "      <td>C</td>\n",
       "      <td>Sandy</td>\n",
       "      <td>NO</td>\n",
       "      <td>0</td>\n",
       "      <td>0</td>\n",
       "      <td>9</td>\n",
       "      <td>3</td>\n",
       "      <td>NaN</td>\n",
       "      <td>4</td>\n",
       "      <td>1</td>\n",
       "    </tr>\n",
       "    <tr>\n",
       "      <th>312</th>\n",
       "      <td>South</td>\n",
       "      <td>Product Support</td>\n",
       "      <td>5:00 PM</td>\n",
       "      <td>Outgoing</td>\n",
       "      <td>C</td>\n",
       "      <td>Eric</td>\n",
       "      <td>NO</td>\n",
       "      <td>0</td>\n",
       "      <td>0</td>\n",
       "      <td>10</td>\n",
       "      <td>1</td>\n",
       "      <td>NaN</td>\n",
       "      <td>2</td>\n",
       "      <td>1</td>\n",
       "    </tr>\n",
       "    <tr>\n",
       "      <th>313</th>\n",
       "      <td>South</td>\n",
       "      <td>Product Support</td>\n",
       "      <td>5:00 PM</td>\n",
       "      <td>Outgoing</td>\n",
       "      <td>D</td>\n",
       "      <td>George</td>\n",
       "      <td>NO</td>\n",
       "      <td>0</td>\n",
       "      <td>0</td>\n",
       "      <td>10</td>\n",
       "      <td>2</td>\n",
       "      <td>NaN</td>\n",
       "      <td>3</td>\n",
       "      <td>1</td>\n",
       "    </tr>\n",
       "  </tbody>\n",
       "</table>\n",
       "<p>559 rows × 14 columns</p>\n",
       "</div>"
      ],
      "text/plain": [
       "    Branch     Call Purpose Time Block Incoming or Outgoing Queue  Rep ID  \\\n",
       "0    North        Complaint    9:00 AM             Incoming     B   Brent   \n",
       "1    North    Sales Support   11:00 AM             Incoming     A     Cam   \n",
       "2    North    Sales Support   11:00 AM             Incoming     B    Todd   \n",
       "3    North    Sales Support    4:00 PM             Incoming     B   Brent   \n",
       "4    North  Product Support   12:00 PM             Incoming     B   Brent   \n",
       "..     ...              ...        ...                  ...   ...     ...   \n",
       "309  South  Product Support    5:00 PM             Outgoing     D   Helga   \n",
       "310  South  Product Support    5:00 PM             Outgoing     C   Susan   \n",
       "311  South  Product Support    5:00 PM             Outgoing     C   Sandy   \n",
       "312  South  Product Support    5:00 PM             Outgoing     C    Eric   \n",
       "313  South  Product Support    5:00 PM             Outgoing     D  George   \n",
       "\n",
       "    Sale  Lost Call  Abandoned  Busy Minutes  Not Ready Minutes  \\\n",
       "0     NO          0          1             9                  2   \n",
       "1     NO          0          0            11                  1   \n",
       "2     NO          0          0             9                  3   \n",
       "3     NO          0          0            11                  2   \n",
       "4     NO          0          0             8                  2   \n",
       "..   ...        ...        ...           ...                ...   \n",
       "309   NO          0          0            10                  3   \n",
       "310   NO          0          0            12                  3   \n",
       "311   NO          0          0             9                  3   \n",
       "312   NO          0          0            10                  1   \n",
       "313   NO          0          0            10                  2   \n",
       "\n",
       "     Incoming Wait Time  During Call Wait Time  Calls  \n",
       "0                   1.0                      4      1  \n",
       "1                   1.0                      3      1  \n",
       "2                   1.0                      3      1  \n",
       "3                   1.0                      4      1  \n",
       "4                   1.0                      4      1  \n",
       "..                  ...                    ...    ...  \n",
       "309                 NaN                      4      1  \n",
       "310                 NaN                      4      1  \n",
       "311                 NaN                      4      1  \n",
       "312                 NaN                      2      1  \n",
       "313                 NaN                      3      1  \n",
       "\n",
       "[559 rows x 14 columns]"
      ]
     },
     "execution_count": 58,
     "metadata": {},
     "output_type": "execute_result"
    }
   ],
   "source": [
    "# Create dataframe for the entire company named df\n",
    "df = pd.concat([north_df, south_df])\n",
    "df"
   ]
  },
  {
   "cell_type": "markdown",
   "id": "7e87dfd1",
   "metadata": {},
   "source": [
    "#### Manipulation Question 1:  Group by Rep ID and sum the resulting structure. Sort by calls to determine which rep in each branch has the highest number of calls."
   ]
  },
  {
   "cell_type": "code",
   "execution_count": 59,
   "id": "3953f09a",
   "metadata": {},
   "outputs": [
    {
     "data": {
      "text/html": [
       "<div>\n",
       "<style scoped>\n",
       "    .dataframe tbody tr th:only-of-type {\n",
       "        vertical-align: middle;\n",
       "    }\n",
       "\n",
       "    .dataframe tbody tr th {\n",
       "        vertical-align: top;\n",
       "    }\n",
       "\n",
       "    .dataframe thead th {\n",
       "        text-align: right;\n",
       "    }\n",
       "</style>\n",
       "<table border=\"1\" class=\"dataframe\">\n",
       "  <thead>\n",
       "    <tr style=\"text-align: right;\">\n",
       "      <th></th>\n",
       "      <th>Rep ID</th>\n",
       "      <th>Branch</th>\n",
       "      <th>Calls</th>\n",
       "    </tr>\n",
       "  </thead>\n",
       "  <tbody>\n",
       "    <tr>\n",
       "      <th>0</th>\n",
       "      <td>Brent</td>\n",
       "      <td>North</td>\n",
       "      <td>37</td>\n",
       "    </tr>\n",
       "    <tr>\n",
       "      <th>1</th>\n",
       "      <td>Eric</td>\n",
       "      <td>South</td>\n",
       "      <td>35</td>\n",
       "    </tr>\n",
       "    <tr>\n",
       "      <th>2</th>\n",
       "      <td>Randy</td>\n",
       "      <td>South</td>\n",
       "      <td>33</td>\n",
       "    </tr>\n",
       "    <tr>\n",
       "      <th>3</th>\n",
       "      <td>Sandy</td>\n",
       "      <td>South</td>\n",
       "      <td>32</td>\n",
       "    </tr>\n",
       "    <tr>\n",
       "      <th>4</th>\n",
       "      <td>Helga</td>\n",
       "      <td>South</td>\n",
       "      <td>31</td>\n",
       "    </tr>\n",
       "    <tr>\n",
       "      <th>5</th>\n",
       "      <td>Lilly</td>\n",
       "      <td>North</td>\n",
       "      <td>30</td>\n",
       "    </tr>\n",
       "    <tr>\n",
       "      <th>6</th>\n",
       "      <td>George</td>\n",
       "      <td>South</td>\n",
       "      <td>29</td>\n",
       "    </tr>\n",
       "    <tr>\n",
       "      <th>7</th>\n",
       "      <td>Kate</td>\n",
       "      <td>South</td>\n",
       "      <td>29</td>\n",
       "    </tr>\n",
       "    <tr>\n",
       "      <th>8</th>\n",
       "      <td>Todd</td>\n",
       "      <td>North</td>\n",
       "      <td>29</td>\n",
       "    </tr>\n",
       "    <tr>\n",
       "      <th>9</th>\n",
       "      <td>Duke</td>\n",
       "      <td>North</td>\n",
       "      <td>29</td>\n",
       "    </tr>\n",
       "    <tr>\n",
       "      <th>10</th>\n",
       "      <td>Karl</td>\n",
       "      <td>South</td>\n",
       "      <td>28</td>\n",
       "    </tr>\n",
       "    <tr>\n",
       "      <th>11</th>\n",
       "      <td>Joe</td>\n",
       "      <td>North</td>\n",
       "      <td>26</td>\n",
       "    </tr>\n",
       "    <tr>\n",
       "      <th>12</th>\n",
       "      <td>Susan</td>\n",
       "      <td>South</td>\n",
       "      <td>26</td>\n",
       "    </tr>\n",
       "    <tr>\n",
       "      <th>13</th>\n",
       "      <td>Josh</td>\n",
       "      <td>South</td>\n",
       "      <td>26</td>\n",
       "    </tr>\n",
       "    <tr>\n",
       "      <th>14</th>\n",
       "      <td>Sharon</td>\n",
       "      <td>South</td>\n",
       "      <td>25</td>\n",
       "    </tr>\n",
       "    <tr>\n",
       "      <th>15</th>\n",
       "      <td>Cam</td>\n",
       "      <td>North</td>\n",
       "      <td>24</td>\n",
       "    </tr>\n",
       "    <tr>\n",
       "      <th>16</th>\n",
       "      <td>Xander</td>\n",
       "      <td>North</td>\n",
       "      <td>24</td>\n",
       "    </tr>\n",
       "    <tr>\n",
       "      <th>17</th>\n",
       "      <td>Amanda</td>\n",
       "      <td>North</td>\n",
       "      <td>23</td>\n",
       "    </tr>\n",
       "    <tr>\n",
       "      <th>18</th>\n",
       "      <td>Andy</td>\n",
       "      <td>North</td>\n",
       "      <td>23</td>\n",
       "    </tr>\n",
       "    <tr>\n",
       "      <th>19</th>\n",
       "      <td>Alice</td>\n",
       "      <td>South</td>\n",
       "      <td>20</td>\n",
       "    </tr>\n",
       "  </tbody>\n",
       "</table>\n",
       "</div>"
      ],
      "text/plain": [
       "    Rep ID Branch  Calls\n",
       "0    Brent  North     37\n",
       "1     Eric  South     35\n",
       "2    Randy  South     33\n",
       "3    Sandy  South     32\n",
       "4    Helga  South     31\n",
       "5    Lilly  North     30\n",
       "6   George  South     29\n",
       "7     Kate  South     29\n",
       "8     Todd  North     29\n",
       "9     Duke  North     29\n",
       "10    Karl  South     28\n",
       "11     Joe  North     26\n",
       "12   Susan  South     26\n",
       "13    Josh  South     26\n",
       "14  Sharon  South     25\n",
       "15     Cam  North     24\n",
       "16  Xander  North     24\n",
       "17  Amanda  North     23\n",
       "18    Andy  North     23\n",
       "19   Alice  South     20"
      ]
     },
     "execution_count": 59,
     "metadata": {},
     "output_type": "execute_result"
    }
   ],
   "source": [
    "# Manipulation Question solution below:\n",
    "# Group by Rep ID and Branch and summing\n",
    "grouped_by_rep_branch = df.groupby([\"Rep ID\", \"Branch\"]).sum()\n",
    "# Sort calls in descending order\n",
    "highest_rep_calls = grouped_by_rep_branch.sort_values(by=\"Calls\", ascending = False)\n",
    "# Reset index to turn Rep ID and Branch back into columns\n",
    "highest_rep_calls.reset_index(inplace=True)\n",
    "# Create variable to pick which columns to display\n",
    "output = highest_rep_calls[[\"Rep ID\", \"Branch\", \"Calls\"]]\n",
    "output"
   ]
  },
  {
   "cell_type": "markdown",
   "id": "7c29838c-1402-4e4b-94c9-050515d8dd18",
   "metadata": {},
   "source": [
    "##### Record your answer below\n",
    "Rep with the hightest number of calls and their total calls:\n",
    "- North Branch = Brent with 37 calls\n",
    "- South Branch = Eric with 35"
   ]
  },
  {
   "cell_type": "markdown",
   "id": "809293b9",
   "metadata": {},
   "source": [
    "#### Manipulation Question 2:  The average call abandonment rate is a KPI when it comes to determining call center efficiency. As you may recall, abandoned calls are calls where the customer hangs up due to long call times. What is the average call abandonment rate for each branch and the whole company? Do any of these fall out of the optimal range of 2-5%?"
   ]
  },
  {
   "cell_type": "code",
   "execution_count": 60,
   "id": "3dff7534",
   "metadata": {},
   "outputs": [
    {
     "data": {
      "text/plain": [
       "Branch\n",
       "North    0.03\n",
       "Name: North Abandonment Rate, dtype: float64"
      ]
     },
     "metadata": {},
     "output_type": "display_data"
    },
    {
     "data": {
      "text/plain": [
       "Branch\n",
       "South    0.01\n",
       "Name: South Abandonment Rate, dtype: float64"
      ]
     },
     "metadata": {},
     "output_type": "display_data"
    },
    {
     "name": "stdout",
     "output_type": "stream",
     "text": [
      "The Company Abandonment Rate: 0.02\n"
     ]
    }
   ],
   "source": [
    "# Manipulation Question 2 solution below:\n",
    "\n",
    "# Creates a new column that calculates the abandonment rate for north df\n",
    "north_df['North Abandonment Rate'] = north_df['Abandoned'] / north_df['Calls']\n",
    "# Groups by Branch and gives the average of the new column then rounds to the nearest hundredth\n",
    "north_branch_abandonment_rate = north_df.groupby('Branch')['North Abandonment Rate'].mean().round(2)\n",
    "display(north_branch_abandonment_rate)\n",
    "\n",
    "# Creates a new column that calculates the abandonment rate for south df\n",
    "south_df['South Abandonment Rate'] = south_df['Abandoned'] / south_df['Calls']\n",
    "# Groups by Branch and gives the average of the new column then rounds to the nearest hundredth\n",
    "south_branch_abandonment_rate = south_df.groupby('Branch')['South Abandonment Rate'].mean().round(2)\n",
    "display(south_branch_abandonment_rate)\n",
    "\n",
    "# Creates a new column that calculates the abandonment rate for df (combined)\n",
    "df['Company Abandonment Rate'] = df['Abandoned'] / df['Calls']\n",
    "#  Gives the average of the new column then rounds to the nearest hundredth\n",
    "company_abandonment_rate = df['Company Abandonment Rate'].mean().round(2)\n",
    "print(\"The Company Abandonment Rate:\", company_abandonment_rate)"
   ]
  },
  {
   "cell_type": "markdown",
   "id": "c284596f-218f-4291-81b6-718ea5671feb",
   "metadata": {},
   "source": [
    "##### Record your answer below:\n",
    "Average Call Abandonment Rates (round to the nearest hundredth):\n",
    "- North Branch = 3%\n",
    "- South Branch = 1%\n",
    "- Company Wide = 2%\n",
    "- Do any of these fall out of the optimal range of 2-5%? No they all fall within optimal range."
   ]
  },
  {
   "cell_type": "markdown",
   "id": "598bb1bf",
   "metadata": {},
   "source": [
    "#### Manipulation Question 3:  Service level is another KPI when it comes to measuring call center efficiency. Service level is the percentage of calls answered within a specific number of seconds. In the case of your employer, their ideal time frame is 2 seconds. What is the percentage of calls answered within 2 seconds for each branch and the entire company?"
   ]
  },
  {
   "cell_type": "code",
   "execution_count": 61,
   "id": "2fc8f669",
   "metadata": {},
   "outputs": [
    {
     "data": {
      "text/plain": [
       "'North Service Level'"
      ]
     },
     "metadata": {},
     "output_type": "display_data"
    },
    {
     "data": {
      "text/plain": [
       "np.float64(40.243902439024396)"
      ]
     },
     "metadata": {},
     "output_type": "display_data"
    },
    {
     "data": {
      "text/plain": [
       "'North Total Answered within 2s'"
      ]
     },
     "metadata": {},
     "output_type": "display_data"
    },
    {
     "data": {
      "text/plain": [
       "np.int64(33)"
      ]
     },
     "metadata": {},
     "output_type": "display_data"
    },
    {
     "data": {
      "text/plain": [
       "'South Service Level'"
      ]
     },
     "metadata": {},
     "output_type": "display_data"
    },
    {
     "data": {
      "text/plain": [
       "np.float64(38.095238095238095)"
      ]
     },
     "metadata": {},
     "output_type": "display_data"
    },
    {
     "data": {
      "text/plain": [
       "'South Total Answered within 2s'"
      ]
     },
     "metadata": {},
     "output_type": "display_data"
    },
    {
     "data": {
      "text/plain": [
       "np.int64(48)"
      ]
     },
     "metadata": {},
     "output_type": "display_data"
    },
    {
     "data": {
      "text/plain": [
       "'Company Service Level'"
      ]
     },
     "metadata": {},
     "output_type": "display_data"
    },
    {
     "data": {
      "text/plain": [
       "np.float64(38.94230769230769)"
      ]
     },
     "metadata": {},
     "output_type": "display_data"
    },
    {
     "data": {
      "text/plain": [
       "'Company Total Answered within 2s'"
      ]
     },
     "metadata": {},
     "output_type": "display_data"
    },
    {
     "data": {
      "text/plain": [
       "np.int64(81)"
      ]
     },
     "metadata": {},
     "output_type": "display_data"
    }
   ],
   "source": [
    "# Manipulation Question 3 solution below:\n",
    "\n",
    "# Filters out all Incoming calls that were answered within 2 seconds or less for North Branch\n",
    "answered_within_2s_north = north_df[\"Incoming Wait Time\"] <= 2.0\n",
    "# Filters only Incoming calls for North Branch\n",
    "north_incoming_calls = north_df[\"Incoming or Outgoing\"] == \"Incoming\"\n",
    "# Sums total Incoming calls for North Branch\n",
    "total_north_calls = north_incoming_calls.sum()\n",
    "# Sums filtered Incoming calls for North Branch\n",
    "total_answered_within_2s_north = answered_within_2s_north.sum()\n",
    "\n",
    "# Divides filtered sum by summed calls and multiples by 100 for North Branch\n",
    "north_service_level =  total_answered_within_2s_north / total_north_calls * 100\n",
    "display(\"North Service Level\", north_service_level)\n",
    "display(\"North Total Answered within 2s\", total_answered_within_2s_north)\n",
    "\n",
    "# Filters out all Incoming calls that were answered within 2 seconds or less for South Branch\n",
    "answered_within_2s_south = south_df[\"Incoming Wait Time\"] <= 2.0\n",
    "\n",
    "# Filters only Incoming calls for South Branch\n",
    "south_incoming_calls = south_df[\"Incoming or Outgoing\"] == \"Incoming\"\n",
    "# Sums total Incoming calls for South Branch\n",
    "total_south_calls = south_incoming_calls.sum()\n",
    "\n",
    "# Sums filtered Incoming calls for South Branch\n",
    "total_answered_within_2s_south = answered_within_2s_south.sum()\n",
    "\n",
    "# Divides filtered sum by summed calls and multiples by 100 for South Branch\n",
    "south_service_level =  total_answered_within_2s_south / total_south_calls * 100\n",
    "display(\"South Service Level\", south_service_level)\n",
    "display(\"South Total Answered within 2s\", total_answered_within_2s_south)\n",
    "\n",
    "# Filters out all Incoming calls that were answered within 2 seconds or less for the company\n",
    "answered_within_2s_company = df[\"Incoming Wait Time\"] <= 2.0\n",
    "\n",
    "# Filters only Incoming calls for the company\n",
    "company_incoming_calls = df[\"Incoming or Outgoing\"] == \"Incoming\"\n",
    "# Sums total Incoming calls for the company\n",
    "total_company_calls = company_incoming_calls.sum()\n",
    "\n",
    "# Sums filtered Incoming calls for the company\n",
    "total_answered_within_2s_company = answered_within_2s_company.sum()\n",
    "\n",
    "# Divides filtered sum by summed calls and multiples by 100 for the company\n",
    "company_service_level =  total_answered_within_2s_company / total_company_calls * 100\n",
    "display(\"Company Service Level\", company_service_level)\n",
    "display(\"Company Total Answered within 2s\", total_answered_within_2s_company)"
   ]
  },
  {
   "cell_type": "markdown",
   "id": "e3a4c9d9-4e11-4e1f-859a-d2c919f7d9ce",
   "metadata": {},
   "source": [
    "##### Record your answer below:\n",
    "Percentage of calls answered within 2 seconds, include # of calls:\n",
    "- North Branch = 40.24%, 33 Calls answered within 2 seconds\n",
    "- South Branch = 38.10%, 48 Calls answered within 2 seconds\n",
    "- Company Wide = 38.94%, 81 Calls answered within 2 seconds"
   ]
  },
  {
   "cell_type": "markdown",
   "id": "7e19e705",
   "metadata": {},
   "source": [
    "#### Manipulation Question 4: For each branch and the entire company, what is the average speed of answer?"
   ]
  },
  {
   "cell_type": "code",
   "execution_count": 62,
   "id": "72a653ed",
   "metadata": {},
   "outputs": [
    {
     "data": {
      "text/plain": [
       "Incoming Wait Time    3.05\n",
       "dtype: float64"
      ]
     },
     "metadata": {},
     "output_type": "display_data"
    },
    {
     "data": {
      "text/plain": [
       "Incoming Wait Time    3.0\n",
       "dtype: float64"
      ]
     },
     "metadata": {},
     "output_type": "display_data"
    },
    {
     "data": {
      "text/plain": [
       "Incoming Wait Time    3.02\n",
       "dtype: float64"
      ]
     },
     "metadata": {},
     "output_type": "display_data"
    }
   ],
   "source": [
    "# Manipulation Question 4 solution below:\n",
    "north_avg_answer_speed = north_df[[\"Incoming Wait Time\"]].agg('mean').round(2)\n",
    "display(north_avg_answer_speed)\n",
    "south_avg_answer_speed = south_df[[\"Incoming Wait Time\"]].agg('mean').round(2)\n",
    "display(south_avg_answer_speed)\n",
    "company_avg_answer_speed = df[[\"Incoming Wait Time\"]].agg('mean').round(2)\n",
    "display(company_avg_answer_speed)"
   ]
  },
  {
   "cell_type": "markdown",
   "id": "fb04c65b-442b-48e1-b22c-b2af8b835ffd",
   "metadata": {},
   "source": [
    "##### Record your answer by below:\n",
    "Average speed of answer (rounded to nearest hundredth):\n",
    "- North Branch in seconds = 3.05\n",
    "- South Branch in seconds = 3\n",
    "- Company Wide in seconds = 3.02"
   ]
  },
  {
   "cell_type": "markdown",
   "id": "d5f50a40",
   "metadata": {},
   "source": [
    "## Task 4: Visualization\n",
    "\n",
    "Create a visualization for each of the following questions. Some of the code to handle aggregating and storing data may be written for you. For each visualization, you choose the chart style that you feel suits the situation best. Make note of the chart style you chose and why. \n",
    "\n",
    "*NOTE Some questions you may decide to use more than one chart and or chart style."
   ]
  },
  {
   "cell_type": "markdown",
   "id": "66ccf83c",
   "metadata": {},
   "source": [
    "#### Visualization 1:  What is the average abandonment rate per queue?"
   ]
  },
  {
   "cell_type": "code",
   "execution_count": 63,
   "id": "c971d779",
   "metadata": {},
   "outputs": [
    {
     "data": {
      "text/plain": [
       "Text(0, 0.5, 'Abandonment Rate')"
      ]
     },
     "execution_count": 63,
     "metadata": {},
     "output_type": "execute_result"
    },
    {
     "data": {
      "image/png": "[encoded data removed]",
      "text/plain": [
       "<Figure size 640x480 with 1 Axes>"
      ]
     },
     "metadata": {},
     "output_type": "display_data"
    }
   ],
   "source": [
    "# Create visualization 1 here\n",
    "# Import any additional libraries needed with alias\n",
    "import pandas as pd\n",
    "import matplotlib.pyplot as plt\n",
    "import seaborn as sns\n",
    "# The dictionary abandonment_rates has the data you need.\n",
    "abandonment_rates = {}\n",
    "queues = [\"A\", \"B\", \"C\", \"D\"]\n",
    "queue_dict = df.groupby(\"Queue\").agg(\"sum\")\n",
    "for i in range(4):\n",
    "    abandonment_rates[queues[i]] = queue_dict[\"Abandoned\"].iloc[i] / queue_dict[\"Calls\"].iloc[i] \n",
    "\n",
    "#Your code below:\n",
    "\n",
    "# Convert the abandonment_rates dictionary to lists\n",
    "queue_names = list(abandonment_rates.keys())\n",
    "abandonment_values = list(abandonment_rates.values())\n",
    "\n",
    "plt.bar(queue_names, abandonment_values)\n",
    "plt.title('Call Abandonment Rates by Queue')\n",
    "plt.xlabel('Queue')\n",
    "plt.ylabel('Abandonment Rate')\n"
   ]
  },
  {
   "cell_type": "markdown",
   "id": "00a821e7-b296-4950-8889-dacf36ef37fb",
   "metadata": {},
   "source": [
    "##### Record your answer below:\n",
    "\n",
    "> Chart style you chose and why: I chose a bar chart. This is because we want to compare each queue to each other. "
   ]
  },
  {
   "cell_type": "markdown",
   "id": "4a9fc77f",
   "metadata": {},
   "source": [
    "#### Visualization 2: What is the service level percentage and average speed of answer for each rep in the North Branch?"
   ]
  },
  {
   "cell_type": "code",
   "execution_count": 67,
   "id": "61f65a7f",
   "metadata": {},
   "outputs": [
    {
     "data": {
      "image/png": "[encoded data removed]",
      "text/plain": [
       "<Figure size 1200x800 with 2 Axes>"
      ]
     },
     "metadata": {},
     "output_type": "display_data"
    }
   ],
   "source": [
    "# Create visualization 2 here\n",
    "# north_plt contains the data you need for the average speed of answer of each rep\n",
    "\n",
    "north_plt = north_df.groupby(\"Rep ID\")[\"Incoming Wait Time\"].mean().to_frame().reset_index()\n",
    "\n",
    "# Finding each Rep's Personal Service Level Percentage.  Basically, Calls within 2 secs / total calls\n",
    "\n",
    "# Table 1: Total Incoming calls less than 2 seconds grouped by Rep\n",
    "quick_calls = north_df[north_df[\"Incoming Wait Time\"] <= 2.0]\n",
    "quick_reps = quick_calls[[\"Rep ID\", \"Calls\"]]\n",
    "quick_stats = quick_reps.groupby([\"Rep ID\"]).sum()  # Final Table\n",
    "\n",
    "\n",
    "# Table 2: Total Incoming Calls Only grouped by Rep\n",
    "total_calls_in = north_df[north_df[\"Incoming or Outgoing\"] == \"Incoming\"]\n",
    "rep_calls = total_calls_in[[\"Rep ID\", \"Calls\"]]     \n",
    "total_stats = rep_calls.groupby([\"Rep ID\"]).sum() # Final Table  \n",
    "\n",
    "#  Table 3: Service Level Percentage created via merge\n",
    "service_level = pd.merge(quick_stats, total_stats, on=\"Rep ID\")\n",
    "\n",
    "# Create Percentage Column in Table 3\n",
    "service_level[\"Service Level %\"] = service_level[\"Calls_x\"]/service_level[\"Calls_y\"] * 100\n",
    "\n",
    "#Your Code Here:\n",
    "\n",
    "# Merge service level data with average speed of answer\n",
    "final_df = pd.merge(north_plt, service_level, on=\"Rep ID\")\n",
    "\n",
    "# Plot dual-axis bar and line chart\n",
    "fig, ax1 = plt.subplots(figsize=(12, 8))\n",
    "\n",
    "# Bar chart for service level percentage\n",
    "color = 'tab:blue'\n",
    "ax1.set_xlabel('Rep')\n",
    "ax1.set_ylabel('Service Level (%)', color=color)\n",
    "ax1.bar(final_df['Rep ID'], final_df['Service Level %'], color=color, alpha=0.6)\n",
    "ax1.tick_params(axis='y', labelcolor=color)\n",
    "\n",
    "# Line chart for average speed of answer\n",
    "ax2 = ax1.twinx()\n",
    "color = 'tab:red'\n",
    "ax2.set_ylabel('Average Speed of Answer (s)', color=color)\n",
    "ax2.plot(final_df['Rep ID'], final_df['Incoming Wait Time'], color=color, marker='o')\n",
    "ax2.tick_params(axis='y', labelcolor=color)\n",
    "\n",
    "plt.title('Service Level % and Average Speed of Answer for each Rep at North Branch')\n",
    "plt.show()"
   ]
  },
  {
   "cell_type": "markdown",
   "id": "4d4cad4d-f9fb-4927-8a45-4b5cd17edd3a",
   "metadata": {},
   "source": [
    "##### Record your answer below:\n",
    "\n",
    "> Chart style you chose and why: I chose a dual-axis chart. This was very challenging for me and took a lot of research but I felt this would best represent the data. By using a Bar chart and a line chart I was able to display the service level and average speed for each rep."
   ]
  },
  {
   "cell_type": "markdown",
   "id": "f965e41a",
   "metadata": {},
   "source": [
    "#### Visualization 3: For each type of call purpose, how many calls are outgoing vs. incoming?"
   ]
  },
  {
   "cell_type": "code",
   "execution_count": 68,
   "id": "44096730",
   "metadata": {},
   "outputs": [
    {
     "name": "stdout",
     "output_type": "stream",
     "text": [
      "Call Purpose     Incoming or Outgoing\n",
      "Complaint        Incoming                 51\n",
      "Product Support  Outgoing                228\n",
      "                 Incoming                 82\n",
      "Sales Support    Outgoing                123\n",
      "                 Incoming                 75\n",
      "Name: count, dtype: int64\n"
     ]
    },
    {
     "data": {
      "image/png": "[encoded data removed]",
      "text/plain": [
       "<Figure size 1200x700 with 1 Axes>"
      ]
     },
     "metadata": {},
     "output_type": "display_data"
    }
   ],
   "source": [
    "# Create visualization 3 here:\n",
    "# The three dictionaries, complaints, sales_support, and product_support, have the information you need\n",
    "\n",
    "purpose_group = df.groupby(\"Call Purpose\")\n",
    "call_purpose = [\"Complaint\", \"Product Support\", \"Sales Support\"]\n",
    "purpose_counts = purpose_group[\"Incoming or Outgoing\"].value_counts()\n",
    "print(purpose_counts)\n",
    "\n",
    "complaints = purpose_counts[\"Complaint\"].to_dict()\n",
    "sales_support = purpose_counts[\"Sales Support\"].to_dict()\n",
    "product_support = purpose_counts[\"Product Support\"].to_dict()\n",
    "\n",
    "#Your Code Here:\n",
    "\n",
    "# Group by 'Call Purpose' and count 'Incoming or Outgoing'\n",
    "purpose_group = df.groupby(\"Call Purpose\")\n",
    "purpose_counts = purpose_group[\"Incoming or Outgoing\"].value_counts().unstack().fillna(0)\n",
    "call_purpose = [\"Complaint\", \"Product Support\", \"Sales Support\"]\n",
    "\n",
    "# Convert the counts to a DataFrame for plotting\n",
    "purpose_counts_df = pd.DataFrame(purpose_counts)\n",
    "\n",
    "# Plotting the multiple bar chart\n",
    "purpose_counts_df.plot(kind='bar', figsize=(12, 7))\n",
    "\n",
    "# Add labels and title\n",
    "plt.xlabel('Call Purpose')\n",
    "plt.ylabel('Count')\n",
    "plt.title('Counts of Incoming and Outgoing Calls for each Call Purpose')\n",
    "\n",
    "# Display the plot\n",
    "plt.xticks(rotation=45)\n",
    "plt.show()"
   ]
  },
  {
   "cell_type": "markdown",
   "id": "9198bbe4-44ef-4e21-bd40-6ace8e9f7694",
   "metadata": {},
   "source": [
    "##### Record your answer below:\n",
    "\n",
    "> Chart style you chose and why: I chose a compound bar chart. I chose this chart because we want to compare each call purpose to each other and incoming and outgoing calls to each other."
   ]
  },
  {
   "cell_type": "markdown",
   "id": "ea7ed568",
   "metadata": {},
   "source": [
    "## Task 5: Summarize Your Work\n",
    "\n",
    "With what you know now about the two call centers and the entire company, answer the following questions. Note that while this is subjective, you should include relevant data to back up your opinion.\n"
   ]
  },
  {
   "cell_type": "markdown",
   "id": "d2fc3d13",
   "metadata": {},
   "source": [
    "#### Summary Question 1:  Using KPIs such as average abandonment rate, service level, and average speed of answer, in your opinion, which one of the two branches is operating more efficiently? Why?\n",
    "\n",
    "##### Record your answer below:\n",
    "> Your Answer: \n",
    "The South branch is operating more efficiently. They are beating the North branch in every metric besides calls answered within 2 seconds percentage, but all together they are answering more calls.\n"
   ]
  },
  {
   "cell_type": "markdown",
   "id": "489f28d6",
   "metadata": {},
   "source": [
    "#### Summary Question 2: Based on the number of reps in each branch and how quickly the reps are working, in your opinion, which branch would benefit from the extra help?\n",
    "\n",
    "##### Record your answer below:\n",
    "> Your Answer: \n",
    "The North branch would benefit more from the extra help. The South is beating the North in almost all KPIs but they have 2 more reps than the North."
   ]
  },
  {
   "cell_type": "markdown",
   "id": "0b10a8c3",
   "metadata": {},
   "source": [
    "#### Summary Question 3: Now that you have explored the datasets, is there any data or information that you wish you had in this analysis?\n",
    "\n",
    "##### Record your answer below:\n",
    "> Your Answer: No, I had what I needed to answer the questions."
   ]
  },
  {
   "cell_type": "markdown",
   "id": "ce16f43d",
   "metadata": {},
   "source": [
    "## Bonus Mission\n",
    "Create a visualization that answers this question: For each call purpose, how many calls (incoming and outgoing) take place in each time block?\n",
    "##### Record your answer below:\n",
    "\n",
    "> Chart style you chose and why: I chose a stacked bar chart. I did this because it clearly shows the distribution of incoming and outgoing calls for different call purposes within each time block."
   ]
  },
  {
   "cell_type": "code",
   "execution_count": 69,
   "id": "71b04f32",
   "metadata": {},
   "outputs": [
    {
     "data": {
      "image/png": "[encoded data removed]",
      "text/plain": [
       "<Figure size 1200x800 with 1 Axes>"
      ]
     },
     "metadata": {},
     "output_type": "display_data"
    }
   ],
   "source": [
    "# Create your Bonus Mission visualization here!\n",
    "call_times = df[[\"Time Block\", \"Call Purpose\", \"Incoming or Outgoing\", \"Calls\"]]\n",
    "\n",
    "# Convert call times into pivot table\n",
    "pivot_df = call_times.pivot_table(index=['Time Block', 'Call Purpose'], columns='Incoming or Outgoing', values='Calls').fillna(0)\n",
    "\n",
    "pivot_df.plot(kind='bar', stacked=True, figsize=(12, 8))\n",
    "\n",
    "plt.title('Number of Calls (Incoming and Outgoing) for each Call Purpose in each Time Block')\n",
    "plt.xlabel('Time Block and Call Purpose')\n",
    "plt.ylabel('Number of Calls')\n",
    "plt.legend(title='Call Type')\n",
    "plt.xticks(rotation=45, ha='right')\n",
    "plt.tight_layout()\n",
    "plt.show()"
   ]
  }
 ],
 "metadata": {
  "kernelspec": {
   "display_name": "Python 3 (ipykernel)",
   "language": "python",
   "name": "python3"
  },
  "language_info": {
   "codemirror_mode": {
    "name": "ipython",
    "version": 3
   },
   "file_extension": ".py",
   "mimetype": "text/x-python",
   "name": "python",
   "nbconvert_exporter": "python",
   "pygments_lexer": "ipython3",
   "version": "3.12.5"
  }
 },
 "nbformat": 4,
 "nbformat_minor": 5
}
